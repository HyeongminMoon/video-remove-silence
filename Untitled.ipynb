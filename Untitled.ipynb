{
 "cells": [
  {
   "cell_type": "code",
   "execution_count": 1,
   "id": "5b25356f-9788-4772-86fb-db27773a3042",
   "metadata": {},
   "outputs": [],
   "source": [
    "import json\n",
    "from subprocess import check_output\n",
    "\n",
    "def get_media_info(filename, print_result=True):\n",
    "    \"\"\"\n",
    "    Returns:\n",
    "        result = dict with audio info where:\n",
    "        result['format'] contains dict of tags, bit rate etc.\n",
    "        result['streams'] contains a dict per stream with sample rate, channels etc.\n",
    "    \"\"\"\n",
    "    result = check_output(['ffprobe',\n",
    "                            '-hide_banner', '-loglevel', 'panic',\n",
    "                            '-show_format',\n",
    "                            '-show_streams',\n",
    "                            '-of',\n",
    "                            'json', filename])\n",
    "\n",
    "    result = json.loads(result)\n",
    "\n",
    "    if print_result:\n",
    "        print('\\nFormat')\n",
    "\n",
    "        for key, value in result['format'].items():\n",
    "            print('   ', key, ':', value)\n",
    "\n",
    "        print('\\nStreams')\n",
    "        for stream in result['streams']:\n",
    "            for key, value in stream.items():\n",
    "                print('   ', key, ':', value)\n",
    "\n",
    "        print('\\n')\n",
    "\n",
    "    return result\n",
    "\n",
    "dic['streams'][0]['sample_rate']"
   ]
  },
  {
   "cell_type": "code",
   "execution_count": 4,
   "id": "f24ef62f-deaa-4413-99ec-f20f1a4f87e9",
   "metadata": {},
   "outputs": [
    {
     "data": {
      "text/plain": [
       "'5.253333'"
      ]
     },
     "execution_count": 4,
     "metadata": {},
     "output_type": "execute_result"
    }
   ],
   "source": [
    "dic = get_media_info('sample.wav', False)\n",
    "dic['format']['duration']"
   ]
  },
  {
   "cell_type": "code",
   "execution_count": 5,
   "id": "9c4d0a7a-7d1d-4a8f-aa69-ee1bef631571",
   "metadata": {},
   "outputs": [
    {
     "data": {
      "text/plain": [
       "{'streams': [{'index': 0,\n",
       "   'codec_name': 'pcm_s16le',\n",
       "   'codec_long_name': 'PCM signed 16-bit little-endian',\n",
       "   'codec_type': 'audio',\n",
       "   'codec_time_base': '1/44100',\n",
       "   'codec_tag_string': '[1][0][0][0]',\n",
       "   'codec_tag': '0x0001',\n",
       "   'sample_fmt': 's16',\n",
       "   'sample_rate': '44100',\n",
       "   'channels': 2,\n",
       "   'bits_per_sample': 16,\n",
       "   'r_frame_rate': '0/0',\n",
       "   'avg_frame_rate': '0/0',\n",
       "   'time_base': '1/44100',\n",
       "   'duration_ts': 231672,\n",
       "   'duration': '5.253333',\n",
       "   'bit_rate': '1411200',\n",
       "   'disposition': {'default': 0,\n",
       "    'dub': 0,\n",
       "    'original': 0,\n",
       "    'comment': 0,\n",
       "    'lyrics': 0,\n",
       "    'karaoke': 0,\n",
       "    'forced': 0,\n",
       "    'hearing_impaired': 0,\n",
       "    'visual_impaired': 0,\n",
       "    'clean_effects': 0,\n",
       "    'attached_pic': 0,\n",
       "    'timed_thumbnails': 0}}],\n",
       " 'format': {'filename': 'sample.wav',\n",
       "  'nb_streams': 1,\n",
       "  'nb_programs': 0,\n",
       "  'format_name': 'wav',\n",
       "  'format_long_name': 'WAV / WAVE (Waveform Audio)',\n",
       "  'duration': '5.253333',\n",
       "  'size': '926732',\n",
       "  'bit_rate': '1411267',\n",
       "  'probe_score': 99}}"
      ]
     },
     "execution_count": 5,
     "metadata": {},
     "output_type": "execute_result"
    }
   ],
   "source": [
    "dic"
   ]
  },
  {
   "cell_type": "code",
   "execution_count": 8,
   "id": "4ffd1ac3-e14f-4461-8c4d-97bf4a79bc2f",
   "metadata": {},
   "outputs": [
    {
     "data": {
      "text/plain": [
       "231671.98529999997"
      ]
     },
     "execution_count": 8,
     "metadata": {},
     "output_type": "execute_result"
    }
   ],
   "source": [
    "5.253333 * 44100.0"
   ]
  },
  {
   "cell_type": "code",
   "execution_count": null,
   "id": "6d303eaa-a54c-4c8f-8452-ad6fbc5dce63",
   "metadata": {},
   "outputs": [],
   "source": []
  }
 ],
 "metadata": {
  "kernelspec": {
   "display_name": "Python 3 (ipykernel)",
   "language": "python",
   "name": "python3"
  },
  "language_info": {
   "codemirror_mode": {
    "name": "ipython",
    "version": 3
   },
   "file_extension": ".py",
   "mimetype": "text/x-python",
   "name": "python",
   "nbconvert_exporter": "python",
   "pygments_lexer": "ipython3",
   "version": "3.8.10"
  }
 },
 "nbformat": 4,
 "nbformat_minor": 5
}
